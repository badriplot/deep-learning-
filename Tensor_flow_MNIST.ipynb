{
  "nbformat": 4,
  "nbformat_minor": 0,
  "metadata": {
    "colab": {
      "name": "Tensor flow MNIST.ipynb",
      "provenance": [],
      "authorship_tag": "ABX9TyNriphFUAp8i2Udsbqv1xMF",
      "include_colab_link": true
    },
    "kernelspec": {
      "name": "python3",
      "display_name": "Python 3"
    }
  },
  "cells": [
    {
      "cell_type": "markdown",
      "metadata": {
        "id": "view-in-github",
        "colab_type": "text"
      },
      "source": [
        "<a href=\"https://colab.research.google.com/github/badriplot/deep-learning-/blob/master/Tensor_flow_MNIST.ipynb\" target=\"_parent\"><img src=\"https://colab.research.google.com/assets/colab-badge.svg\" alt=\"Open In Colab\"/></a>"
      ]
    },
    {
      "cell_type": "code",
      "metadata": {
        "id": "7CSuHZTfWy3u",
        "colab_type": "code",
        "colab": {}
      },
      "source": [
        "import numpy as np "
      ],
      "execution_count": 0,
      "outputs": []
    },
    {
      "cell_type": "code",
      "metadata": {
        "id": "6qyoHh8oPrNd",
        "colab_type": "code",
        "colab": {}
      },
      "source": [
        "import tensorflow as tf"
      ],
      "execution_count": 0,
      "outputs": []
    },
    {
      "cell_type": "code",
      "metadata": {
        "id": "9nB_e-D7Pv-x",
        "colab_type": "code",
        "colab": {}
      },
      "source": [
        "import tensorflow_datasets as tfds"
      ],
      "execution_count": 0,
      "outputs": []
    },
    {
      "cell_type": "markdown",
      "metadata": {
        "id": "tsQVUO_XQvBL",
        "colab_type": "text"
      },
      "source": [
        "# Let's Acquire data set and storing in variable in mnist dataset "
      ]
    },
    {
      "cell_type": "code",
      "metadata": {
        "id": "SN6xvHccQ9CR",
        "colab_type": "code",
        "colab": {}
      },
      "source": [
        "mnist_dataset, mnist_info =tfds.load(name='mnist',with_info= True,as_supervised=True)"
      ],
      "execution_count": 0,
      "outputs": []
    },
    {
      "cell_type": "code",
      "metadata": {
        "id": "ZON3K-ZjRw_s",
        "colab_type": "code",
        "colab": {}
      },
      "source": [
        "mnist_train,mnist_test = mnist_dataset['train'],mnist_dataset['test']"
      ],
      "execution_count": 0,
      "outputs": []
    },
    {
      "cell_type": "code",
      "metadata": {
        "id": "efPLI2u6SVpy",
        "colab_type": "code",
        "colab": {}
      },
      "source": [
        "num_validation_samples = 0.1*mnist_info.splits['train'].num_examples"
      ],
      "execution_count": 0,
      "outputs": []
    },
    {
      "cell_type": "code",
      "metadata": {
        "id": "n7juNrE9Spfy",
        "colab_type": "code",
        "colab": {}
      },
      "source": [
        "num_validation_samples=tf.cast(num_validation_samples,tf.int64)"
      ],
      "execution_count": 0,
      "outputs": []
    },
    {
      "cell_type": "code",
      "metadata": {
        "id": "nfKXnJT3TwIM",
        "colab_type": "code",
        "colab": {}
      },
      "source": [
        "num_test_samples=mnist_info.splits['test'].num_examples"
      ],
      "execution_count": 0,
      "outputs": []
    },
    {
      "cell_type": "code",
      "metadata": {
        "id": "aKkRF-szT_2K",
        "colab_type": "code",
        "colab": {}
      },
      "source": [
        "num_test_samples =tf.cast(num_test_samples,tf.int64)"
      ],
      "execution_count": 0,
      "outputs": []
    },
    {
      "cell_type": "code",
      "metadata": {
        "id": "8AcTydfqUZz5",
        "colab_type": "code",
        "colab": {}
      },
      "source": [
        "def scale(image,label):\n",
        "  image=tf.cast(image,tf.float32)\n",
        "  image/=255.\n",
        "  return image,label\n",
        "\n"
      ],
      "execution_count": 0,
      "outputs": []
    },
    {
      "cell_type": "code",
      "metadata": {
        "id": "WpdhrKXGVEdy",
        "colab_type": "code",
        "colab": {}
      },
      "source": [
        "scaled_train_and_validation_data = mnist_train.map(scale)"
      ],
      "execution_count": 0,
      "outputs": []
    },
    {
      "cell_type": "code",
      "metadata": {
        "id": "ja7DDF2FVa8q",
        "colab_type": "code",
        "colab": {}
      },
      "source": [
        "test_data=mnist_test.map(scale)"
      ],
      "execution_count": 0,
      "outputs": []
    },
    {
      "cell_type": "code",
      "metadata": {
        "id": "hZ5XVdZ9VqWK",
        "colab_type": "code",
        "colab": {}
      },
      "source": [
        "BUFFER_SIZE = 10000"
      ],
      "execution_count": 0,
      "outputs": []
    },
    {
      "cell_type": "code",
      "metadata": {
        "id": "s2vLY034WNXu",
        "colab_type": "code",
        "colab": {}
      },
      "source": [
        "shuffled_train_and_validation_data=scaled_train_and_validation_data.shuffle(BUFFER_SIZE)"
      ],
      "execution_count": 0,
      "outputs": []
    },
    {
      "cell_type": "code",
      "metadata": {
        "id": "kA5qbpX6Wf_j",
        "colab_type": "code",
        "colab": {}
      },
      "source": [
        "validation_data= shuffled_train_and_validation_data.take(num_validation_samples)"
      ],
      "execution_count": 0,
      "outputs": []
    },
    {
      "cell_type": "code",
      "metadata": {
        "id": "8CJeRyXJWy9S",
        "colab_type": "code",
        "colab": {}
      },
      "source": [
        "train_data=shuffled_train_and_validation_data.skip(num_validation_samples)"
      ],
      "execution_count": 0,
      "outputs": []
    },
    {
      "cell_type": "code",
      "metadata": {
        "id": "urZGD2AUXAXK",
        "colab_type": "code",
        "colab": {}
      },
      "source": [
        "BATCH_SIZE = 100"
      ],
      "execution_count": 0,
      "outputs": []
    },
    {
      "cell_type": "code",
      "metadata": {
        "id": "qFnemcERXTza",
        "colab_type": "code",
        "colab": {}
      },
      "source": [
        "train_data=train_data.batch(BATCH_SIZE)"
      ],
      "execution_count": 0,
      "outputs": []
    },
    {
      "cell_type": "code",
      "metadata": {
        "id": "rD_wzH4cXhPD",
        "colab_type": "code",
        "colab": {}
      },
      "source": [
        "validation_data=validation_data.batch(num_validation_samples)"
      ],
      "execution_count": 0,
      "outputs": []
    },
    {
      "cell_type": "code",
      "metadata": {
        "id": "QUIh5kp4YG7D",
        "colab_type": "code",
        "colab": {}
      },
      "source": [
        "test_data = test_data.batch(num_test_samples)\n",
        "\n",
        "validation_inputs,validation_targets=next(iter(validation_data))"
      ],
      "execution_count": 0,
      "outputs": []
    },
    {
      "cell_type": "markdown",
      "metadata": {
        "id": "9uO1eAy3YptS",
        "colab_type": "text"
      },
      "source": [
        "# model \n",
        "## outline the model\n"
      ]
    },
    {
      "cell_type": "code",
      "metadata": {
        "id": "Xok6Izejeudu",
        "colab_type": "code",
        "colab": {}
      },
      "source": [
        ""
      ],
      "execution_count": 0,
      "outputs": []
    },
    {
      "cell_type": "code",
      "metadata": {
        "colab_type": "code",
        "id": "Tg_3X1G9ayAG",
        "colab": {}
      },
      "source": [
        "input_size = 784\n",
        "output_size =10\n",
        "hidden_layer_size = 100\n",
        "\n",
        "model=tf.keras.Sequential([\n",
        "                           tf.keras.layers.Flatten(input_shape=(28,28,1)),\n",
        "                           tf.keras.layers.Dense(hidden_layer_size, activation='relu') , \n",
        "                           tf.keras.layers.Dense(hidden_layer_size,activation='relu'),\n",
        "                          tf.keras.layers.Dense(output_size,activation='softmax')\n",
        "\n",
        "\n",
        "\n",
        "\n",
        "])\n",
        "    \n",
        "\n",
        "\n",
        "\n",
        "\n",
        "\n"
      ],
      "execution_count": 0,
      "outputs": []
    },
    {
      "cell_type": "code",
      "metadata": {
        "id": "PGdr-m4xb7tb",
        "colab_type": "code",
        "colab": {}
      },
      "source": [
        "model.compile(optimizer='adam',loss='sparse_categorical_crossentropy',metrics=['accuracy'])"
      ],
      "execution_count": 0,
      "outputs": []
    },
    {
      "cell_type": "code",
      "metadata": {
        "id": "VX7fUFq0cp7L",
        "colab_type": "code",
        "colab": {}
      },
      "source": [
        ""
      ],
      "execution_count": 0,
      "outputs": []
    },
    {
      "cell_type": "markdown",
      "metadata": {
        "id": "W7eTtY6QcvaA",
        "colab_type": "text"
      },
      "source": [
        "#training "
      ]
    },
    {
      "cell_type": "code",
      "metadata": {
        "id": "mqSu9hnxcwrb",
        "colab_type": "code",
        "colab": {}
      },
      "source": [
        "NUM_EPOCHS = 5"
      ],
      "execution_count": 0,
      "outputs": []
    },
    {
      "cell_type": "code",
      "metadata": {
        "id": "vTqYvvTmc27S",
        "colab_type": "code",
        "colab": {
          "base_uri": "https://localhost:8080/",
          "height": 204
        },
        "outputId": "15c0f91e-a260-449b-e97a-7c683be4e449"
      },
      "source": [
        "model.fit(train_data,epochs= NUM_EPOCHS, validation_data=(validation_inputs,validation_targets),verbose=2)"
      ],
      "execution_count": 76,
      "outputs": [
        {
          "output_type": "stream",
          "text": [
            "Epoch 1/5\n",
            "540/540 - 11s - loss: 0.3334 - accuracy: 0.9042 - val_loss: 0.1698 - val_accuracy: 0.9507\n",
            "Epoch 2/5\n",
            "540/540 - 10s - loss: 0.1384 - accuracy: 0.9592 - val_loss: 0.1157 - val_accuracy: 0.9678\n",
            "Epoch 3/5\n",
            "540/540 - 10s - loss: 0.0967 - accuracy: 0.9706 - val_loss: 0.0879 - val_accuracy: 0.9735\n",
            "Epoch 4/5\n",
            "540/540 - 10s - loss: 0.0730 - accuracy: 0.9779 - val_loss: 0.0722 - val_accuracy: 0.9787\n",
            "Epoch 5/5\n",
            "540/540 - 11s - loss: 0.0588 - accuracy: 0.9821 - val_loss: 0.0664 - val_accuracy: 0.9803\n"
          ],
          "name": "stdout"
        },
        {
          "output_type": "execute_result",
          "data": {
            "text/plain": [
              "<tensorflow.python.keras.callbacks.History at 0x7fd2baf9beb8>"
            ]
          },
          "metadata": {
            "tags": []
          },
          "execution_count": 76
        }
      ]
    },
    {
      "cell_type": "code",
      "metadata": {
        "id": "8ocrqDqqdXs4",
        "colab_type": "code",
        "colab": {}
      },
      "source": [
        ""
      ],
      "execution_count": 0,
      "outputs": []
    },
    {
      "cell_type": "markdown",
      "metadata": {
        "id": "NuHLheypfih9",
        "colab_type": "text"
      },
      "source": [
        "#test the model"
      ]
    },
    {
      "cell_type": "code",
      "metadata": {
        "id": "a17mIeD9fkqE",
        "colab_type": "code",
        "colab": {
          "base_uri": "https://localhost:8080/",
          "height": 51
        },
        "outputId": "2b5031e1-1e9f-4ad1-8402-442072b6b16e"
      },
      "source": [
        "test_loss,test_accuracy = model.evaluate (test_data)\n",
        "print('Test loss: {0:.2f}. test accuracy: {1:.2f}%'.format(test_loss,test_accuracy*100.))"
      ],
      "execution_count": 77,
      "outputs": [
        {
          "output_type": "stream",
          "text": [
            "1/1 [==============================] - 0s 1ms/step - loss: 0.0885 - accuracy: 0.9726\n",
            "Test loss: 0.09. test accuracy: 97.26%\n"
          ],
          "name": "stdout"
        }
      ]
    },
    {
      "cell_type": "code",
      "metadata": {
        "id": "YJka5I-AhS-p",
        "colab_type": "code",
        "colab": {}
      },
      "source": [
        ""
      ],
      "execution_count": 0,
      "outputs": []
    },
    {
      "cell_type": "code",
      "metadata": {
        "id": "Un5PLpHEckgL",
        "colab_type": "code",
        "colab": {}
      },
      "source": [
        ""
      ],
      "execution_count": 0,
      "outputs": []
    },
    {
      "cell_type": "code",
      "metadata": {
        "id": "p5r1NQHXbyfr",
        "colab_type": "code",
        "colab": {}
      },
      "source": [
        ""
      ],
      "execution_count": 0,
      "outputs": []
    },
    {
      "cell_type": "code",
      "metadata": {
        "id": "L5qdezNPbudQ",
        "colab_type": "code",
        "colab": {}
      },
      "source": [
        ""
      ],
      "execution_count": 0,
      "outputs": []
    }
  ]
}