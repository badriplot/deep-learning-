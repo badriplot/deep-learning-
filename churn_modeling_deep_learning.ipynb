{
  "nbformat": 4,
  "nbformat_minor": 0,
  "metadata": {
    "colab": {
      "name": "churn_modeling_deep learning.ipynb",
      "provenance": [],
      "authorship_tag": "ABX9TyNusK8DoWQgPPLpRB9pP8xU",
      "include_colab_link": true
    },
    "kernelspec": {
      "name": "python3",
      "display_name": "Python 3"
    }
  },
  "cells": [
    {
      "cell_type": "markdown",
      "metadata": {
        "id": "view-in-github",
        "colab_type": "text"
      },
      "source": [
        "<a href=\"https://colab.research.google.com/github/badriplot/deep-learning-/blob/master/churn_modeling_deep_learning.ipynb\" target=\"_parent\"><img src=\"https://colab.research.google.com/assets/colab-badge.svg\" alt=\"Open In Colab\"/></a>"
      ]
    },
    {
      "cell_type": "code",
      "metadata": {
        "id": "sgoxSmfrwRxn",
        "colab_type": "code",
        "colab": {}
      },
      "source": [
        "import numpy as np"
      ],
      "execution_count": 0,
      "outputs": []
    },
    {
      "cell_type": "code",
      "metadata": {
        "id": "wE1gEz7Gxmi5",
        "colab_type": "code",
        "colab": {}
      },
      "source": [
        ""
      ],
      "execution_count": 0,
      "outputs": []
    },
    {
      "cell_type": "code",
      "metadata": {
        "id": "bmy-HTdDxf2t",
        "colab_type": "code",
        "colab": {}
      },
      "source": [
        "import matplotlib.pyplot as plt"
      ],
      "execution_count": 0,
      "outputs": []
    },
    {
      "cell_type": "code",
      "metadata": {
        "id": "e9nccFZdxn0Q",
        "colab_type": "code",
        "colab": {}
      },
      "source": [
        "import pandas as pd"
      ],
      "execution_count": 0,
      "outputs": []
    },
    {
      "cell_type": "code",
      "metadata": {
        "id": "QXUYkjAlxqzY",
        "colab_type": "code",
        "colab": {
          "resources": {
            "http://localhost:8080/nbextensions/google.colab/files.js": {
              "data": "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",
              "ok": true,
              "headers": [
                [
                  "content-type",
                  "application/javascript"
                ]
              ],
              "status": 200,
              "status_text": ""
            }
          },
          "base_uri": "https://localhost:8080/",
          "height": 74
        },
        "outputId": "ce95baf3-97c6-4daa-cf38-235b1f603ff4"
      },
      "source": [
        "from google.colab import files\n",
        "uploaded = files.upload()"
      ],
      "execution_count": 6,
      "outputs": [
        {
          "output_type": "display_data",
          "data": {
            "text/html": [
              "\n",
              "     <input type=\"file\" id=\"files-19679ed9-a686-4fd3-a808-0b4501945452\" name=\"files[]\" multiple disabled />\n",
              "     <output id=\"result-19679ed9-a686-4fd3-a808-0b4501945452\">\n",
              "      Upload widget is only available when the cell has been executed in the\n",
              "      current browser session. Please rerun this cell to enable.\n",
              "      </output>\n",
              "      <script src=\"/nbextensions/google.colab/files.js\"></script> "
            ],
            "text/plain": [
              "<IPython.core.display.HTML object>"
            ]
          },
          "metadata": {
            "tags": []
          }
        },
        {
          "output_type": "stream",
          "text": [
            "Saving Churn_Modelling.csv to Churn_Modelling.csv\n"
          ],
          "name": "stdout"
        }
      ]
    },
    {
      "cell_type": "code",
      "metadata": {
        "id": "TLbKJF-4xwhh",
        "colab_type": "code",
        "colab": {}
      },
      "source": [
        "import io\n",
        "df2 = pd.read_csv(io.BytesIO(uploaded['Churn_Modelling.csv']))"
      ],
      "execution_count": 0,
      "outputs": []
    },
    {
      "cell_type": "code",
      "metadata": {
        "id": "i3dnW0n3yJMI",
        "colab_type": "code",
        "colab": {}
      },
      "source": [
        "X= df2.iloc[:, 3:13]\n",
        "y= df2.iloc[:, 13]"
      ],
      "execution_count": 0,
      "outputs": []
    },
    {
      "cell_type": "code",
      "metadata": {
        "id": "xcEynzJEyq3A",
        "colab_type": "code",
        "colab": {}
      },
      "source": [
        "#create dummy variables"
      ],
      "execution_count": 0,
      "outputs": []
    },
    {
      "cell_type": "code",
      "metadata": {
        "id": "iVHUVAJIybqQ",
        "colab_type": "code",
        "colab": {}
      },
      "source": [
        "geography =pd.get_dummies(X[\"Geography\"],drop_first=True)\n",
        "gender = pd.get_dummies(X['Gender'],drop_first=True)"
      ],
      "execution_count": 0,
      "outputs": []
    },
    {
      "cell_type": "code",
      "metadata": {
        "id": "O3s8zf1tzWIM",
        "colab_type": "code",
        "colab": {}
      },
      "source": [
        "#concatenate rge data frames"
      ],
      "execution_count": 0,
      "outputs": []
    },
    {
      "cell_type": "code",
      "metadata": {
        "id": "84r3kTAEziVx",
        "colab_type": "code",
        "colab": {}
      },
      "source": [
        "X=pd.concat([X,geography,gender],axis=1)"
      ],
      "execution_count": 0,
      "outputs": []
    },
    {
      "cell_type": "code",
      "metadata": {
        "id": "xeA81OAozuOh",
        "colab_type": "code",
        "colab": {}
      },
      "source": [
        "# drop unneccessary columns"
      ],
      "execution_count": 0,
      "outputs": []
    },
    {
      "cell_type": "code",
      "metadata": {
        "id": "3SUDtREbz0vx",
        "colab_type": "code",
        "colab": {}
      },
      "source": [
        "X= X.drop(['Geography','Gender'],axis=1)"
      ],
      "execution_count": 0,
      "outputs": []
    },
    {
      "cell_type": "code",
      "metadata": {
        "id": "stKUUaiq0CbQ",
        "colab_type": "code",
        "colab": {}
      },
      "source": [
        "#splitting the dataset into the training set and test set"
      ],
      "execution_count": 0,
      "outputs": []
    },
    {
      "cell_type": "code",
      "metadata": {
        "id": "De2ID21Z0UAj",
        "colab_type": "code",
        "colab": {}
      },
      "source": [
        "from sklearn.model_selection import train_test_split"
      ],
      "execution_count": 0,
      "outputs": []
    },
    {
      "cell_type": "code",
      "metadata": {
        "id": "VZ_R0Ne00bQB",
        "colab_type": "code",
        "colab": {}
      },
      "source": [
        "X_train, X_test, y_train,y_test = train_test_split(X,y, test_size=0.2,random_state=0)"
      ],
      "execution_count": 0,
      "outputs": []
    },
    {
      "cell_type": "code",
      "metadata": {
        "id": "qOqnXrXp0sQp",
        "colab_type": "code",
        "colab": {}
      },
      "source": [
        "#feature scaling "
      ],
      "execution_count": 0,
      "outputs": []
    },
    {
      "cell_type": "code",
      "metadata": {
        "id": "Vq8omJpO1RhB",
        "colab_type": "code",
        "colab": {}
      },
      "source": [
        "from sklearn.preprocessing import StandardScaler"
      ],
      "execution_count": 0,
      "outputs": []
    },
    {
      "cell_type": "code",
      "metadata": {
        "id": "PXJzVw7P1W5x",
        "colab_type": "code",
        "colab": {}
      },
      "source": [
        "sc= StandardScaler()"
      ],
      "execution_count": 0,
      "outputs": []
    },
    {
      "cell_type": "code",
      "metadata": {
        "id": "awuNc_Tx1c7x",
        "colab_type": "code",
        "colab": {}
      },
      "source": [
        "X_train = sc.fit_transform(X_train)"
      ],
      "execution_count": 0,
      "outputs": []
    },
    {
      "cell_type": "code",
      "metadata": {
        "id": "eBFraLKk1liJ",
        "colab_type": "code",
        "colab": {}
      },
      "source": [
        "X_test = sc.transform(X_test)"
      ],
      "execution_count": 0,
      "outputs": []
    },
    {
      "cell_type": "code",
      "metadata": {
        "id": "3ugpuWQS1tjo",
        "colab_type": "code",
        "colab": {}
      },
      "source": [
        "#part 2 - now lets make the ANN "
      ],
      "execution_count": 0,
      "outputs": []
    },
    {
      "cell_type": "code",
      "metadata": {
        "id": "37LMrOz9yDxw",
        "colab_type": "code",
        "colab": {
          "base_uri": "https://localhost:8080/",
          "height": 34
        },
        "outputId": "464913ba-0ce1-489c-e830-c9f7f8fb131f"
      },
      "source": [
        "import keras"
      ],
      "execution_count": 26,
      "outputs": [
        {
          "output_type": "stream",
          "text": [
            "Using TensorFlow backend.\n"
          ],
          "name": "stderr"
        }
      ]
    },
    {
      "cell_type": "code",
      "metadata": {
        "id": "3k0W1Xlk2RbJ",
        "colab_type": "code",
        "colab": {}
      },
      "source": [
        "from keras.models import Sequential"
      ],
      "execution_count": 0,
      "outputs": []
    },
    {
      "cell_type": "code",
      "metadata": {
        "id": "Fr3XRe462Vy5",
        "colab_type": "code",
        "colab": {}
      },
      "source": [
        "from keras.layers import Dense"
      ],
      "execution_count": 0,
      "outputs": []
    },
    {
      "cell_type": "code",
      "metadata": {
        "id": "IlJO844E2ZmC",
        "colab_type": "code",
        "colab": {}
      },
      "source": [
        "from keras.layers import LeakyReLU,PReLU,ELU"
      ],
      "execution_count": 0,
      "outputs": []
    },
    {
      "cell_type": "code",
      "metadata": {
        "id": "Ey-hJ00w2i3o",
        "colab_type": "code",
        "colab": {}
      },
      "source": [
        "from keras.layers import Dropout"
      ],
      "execution_count": 0,
      "outputs": []
    },
    {
      "cell_type": "code",
      "metadata": {
        "id": "egHE_EP02nbA",
        "colab_type": "code",
        "colab": {}
      },
      "source": [
        "#INITIALISING THE ANN "
      ],
      "execution_count": 0,
      "outputs": []
    },
    {
      "cell_type": "code",
      "metadata": {
        "id": "WEY0hHed2sfR",
        "colab_type": "code",
        "colab": {}
      },
      "source": [
        "classifier = Sequential()"
      ],
      "execution_count": 0,
      "outputs": []
    },
    {
      "cell_type": "code",
      "metadata": {
        "id": "YAc0-Bwn23WB",
        "colab_type": "code",
        "colab": {}
      },
      "source": [
        "#ADDING INPUT LAYER AND FIRST HIDDEN LAYER "
      ],
      "execution_count": 0,
      "outputs": []
    },
    {
      "cell_type": "code",
      "metadata": {
        "id": "xOeRo2L_27dJ",
        "colab_type": "code",
        "colab": {}
      },
      "source": [
        "classifier.add(Dense(units= 6,kernel_initializer='he_uniform',activation='relu',input_dim=11))"
      ],
      "execution_count": 0,
      "outputs": []
    },
    {
      "cell_type": "code",
      "metadata": {
        "id": "nQO3UlAo4xPS",
        "colab_type": "code",
        "colab": {}
      },
      "source": [
        "#adding the second hidden layer "
      ],
      "execution_count": 0,
      "outputs": []
    },
    {
      "cell_type": "code",
      "metadata": {
        "id": "7F1BZlCm41kB",
        "colab_type": "code",
        "colab": {}
      },
      "source": [
        "classifier.add(Dense(units= 6,kernel_initializer='he_uniform',activation='relu'))"
      ],
      "execution_count": 0,
      "outputs": []
    },
    {
      "cell_type": "code",
      "metadata": {
        "id": "-oQEyR3a47W6",
        "colab_type": "code",
        "colab": {}
      },
      "source": [
        "#adding the output layer "
      ],
      "execution_count": 0,
      "outputs": []
    },
    {
      "cell_type": "code",
      "metadata": {
        "id": "fK2mbLnk5Egi",
        "colab_type": "code",
        "colab": {}
      },
      "source": [
        "classifier.add(Dense(units=1, kernel_initializer='glorot_uniform',activation='sigmoid'))"
      ],
      "execution_count": 0,
      "outputs": []
    },
    {
      "cell_type": "code",
      "metadata": {
        "id": "0RPbv3XB50rR",
        "colab_type": "code",
        "colab": {
          "base_uri": "https://localhost:8080/",
          "height": 289
        },
        "outputId": "2afe0bc9-9b32-4963-9897-5004e30f4b82"
      },
      "source": [
        "classifier.summary()"
      ],
      "execution_count": 44,
      "outputs": [
        {
          "output_type": "stream",
          "text": [
            "Model: \"sequential_1\"\n",
            "_________________________________________________________________\n",
            "Layer (type)                 Output Shape              Param #   \n",
            "=================================================================\n",
            "dense_1 (Dense)              (None, 6)                 72        \n",
            "_________________________________________________________________\n",
            "dense_2 (Dense)              (None, 6)                 42        \n",
            "_________________________________________________________________\n",
            "dense_3 (Dense)              (None, 6)                 42        \n",
            "_________________________________________________________________\n",
            "dense_4 (Dense)              (None, 1)                 7         \n",
            "=================================================================\n",
            "Total params: 163\n",
            "Trainable params: 163\n",
            "Non-trainable params: 0\n",
            "_________________________________________________________________\n"
          ],
          "name": "stdout"
        }
      ]
    },
    {
      "cell_type": "code",
      "metadata": {
        "id": "RrqTVhdu6Ibz",
        "colab_type": "code",
        "colab": {}
      },
      "source": [
        "#compiling the ANN "
      ],
      "execution_count": 0,
      "outputs": []
    },
    {
      "cell_type": "code",
      "metadata": {
        "id": "kkKysvNM6nay",
        "colab_type": "code",
        "colab": {}
      },
      "source": [
        "classifier.compile(optimizer='adam',loss ='binary_crossentropy',metrics =['accuracy'])"
      ],
      "execution_count": 0,
      "outputs": []
    },
    {
      "cell_type": "code",
      "metadata": {
        "id": "leyHvxQ56_6B",
        "colab_type": "code",
        "colab": {}
      },
      "source": [
        "#fitting the ANN to the training set "
      ],
      "execution_count": 0,
      "outputs": []
    },
    {
      "cell_type": "code",
      "metadata": {
        "id": "4rnPn8HI7MMh",
        "colab_type": "code",
        "colab": {
          "base_uri": "https://localhost:8080/",
          "height": 1000
        },
        "outputId": "c0b91dd8-84d9-4041-f2b6-b496c5cfb5cb"
      },
      "source": [
        "model_history=classifier.fit(X_train,y_train,validation_split=0.33,batch_size=10,nb_epoch=100)"
      ],
      "execution_count": 48,
      "outputs": [
        {
          "output_type": "stream",
          "text": [
            "/usr/local/lib/python3.6/dist-packages/ipykernel_launcher.py:1: UserWarning: The `nb_epoch` argument in `fit` has been renamed `epochs`.\n",
            "  \"\"\"Entry point for launching an IPython kernel.\n"
          ],
          "name": "stderr"
        },
        {
          "output_type": "stream",
          "text": [
            "Train on 5359 samples, validate on 2641 samples\n",
            "Epoch 1/100\n",
            "5359/5359 [==============================] - 1s 215us/step - loss: 0.6451 - accuracy: 0.6680 - val_loss: 0.4979 - val_accuracy: 0.8005\n",
            "Epoch 2/100\n",
            "5359/5359 [==============================] - 1s 150us/step - loss: 0.4720 - accuracy: 0.8013 - val_loss: 0.4614 - val_accuracy: 0.8020\n",
            "Epoch 3/100\n",
            "5359/5359 [==============================] - 1s 144us/step - loss: 0.4388 - accuracy: 0.8091 - val_loss: 0.4397 - val_accuracy: 0.8023\n",
            "Epoch 4/100\n",
            "5359/5359 [==============================] - 1s 144us/step - loss: 0.4168 - accuracy: 0.8136 - val_loss: 0.4223 - val_accuracy: 0.8035\n",
            "Epoch 5/100\n",
            "5359/5359 [==============================] - 1s 146us/step - loss: 0.3980 - accuracy: 0.8214 - val_loss: 0.4048 - val_accuracy: 0.8111\n",
            "Epoch 6/100\n",
            "5359/5359 [==============================] - 1s 166us/step - loss: 0.3816 - accuracy: 0.8294 - val_loss: 0.3910 - val_accuracy: 0.8183\n",
            "Epoch 7/100\n",
            "5359/5359 [==============================] - 1s 143us/step - loss: 0.3704 - accuracy: 0.8343 - val_loss: 0.3832 - val_accuracy: 0.8239\n",
            "Epoch 8/100\n",
            "5359/5359 [==============================] - 1s 142us/step - loss: 0.3634 - accuracy: 0.8356 - val_loss: 0.3802 - val_accuracy: 0.8285\n",
            "Epoch 9/100\n",
            "5359/5359 [==============================] - 1s 142us/step - loss: 0.3588 - accuracy: 0.8408 - val_loss: 0.3783 - val_accuracy: 0.8315\n",
            "Epoch 10/100\n",
            "5359/5359 [==============================] - 1s 142us/step - loss: 0.3561 - accuracy: 0.8468 - val_loss: 0.3766 - val_accuracy: 0.8315\n",
            "Epoch 11/100\n",
            "5359/5359 [==============================] - 1s 151us/step - loss: 0.3541 - accuracy: 0.8479 - val_loss: 0.3757 - val_accuracy: 0.8326\n",
            "Epoch 12/100\n",
            "5359/5359 [==============================] - 1s 149us/step - loss: 0.3525 - accuracy: 0.8489 - val_loss: 0.3751 - val_accuracy: 0.8345\n",
            "Epoch 13/100\n",
            "5359/5359 [==============================] - 1s 151us/step - loss: 0.3510 - accuracy: 0.8502 - val_loss: 0.3745 - val_accuracy: 0.8360\n",
            "Epoch 14/100\n",
            "5359/5359 [==============================] - 1s 148us/step - loss: 0.3502 - accuracy: 0.8507 - val_loss: 0.3730 - val_accuracy: 0.8364\n",
            "Epoch 15/100\n",
            "5359/5359 [==============================] - 1s 142us/step - loss: 0.3480 - accuracy: 0.8505 - val_loss: 0.3715 - val_accuracy: 0.8406\n",
            "Epoch 16/100\n",
            "5359/5359 [==============================] - 1s 147us/step - loss: 0.3466 - accuracy: 0.8522 - val_loss: 0.3707 - val_accuracy: 0.8402\n",
            "Epoch 17/100\n",
            "5359/5359 [==============================] - 1s 143us/step - loss: 0.3457 - accuracy: 0.8539 - val_loss: 0.3701 - val_accuracy: 0.8391\n",
            "Epoch 18/100\n",
            "5359/5359 [==============================] - 1s 150us/step - loss: 0.3433 - accuracy: 0.8520 - val_loss: 0.3679 - val_accuracy: 0.8410\n",
            "Epoch 19/100\n",
            "5359/5359 [==============================] - 1s 150us/step - loss: 0.3417 - accuracy: 0.8552 - val_loss: 0.3658 - val_accuracy: 0.8417\n",
            "Epoch 20/100\n",
            "5359/5359 [==============================] - 1s 145us/step - loss: 0.3400 - accuracy: 0.8572 - val_loss: 0.3649 - val_accuracy: 0.8459\n",
            "Epoch 21/100\n",
            "5359/5359 [==============================] - 1s 142us/step - loss: 0.3375 - accuracy: 0.8574 - val_loss: 0.3653 - val_accuracy: 0.8512\n",
            "Epoch 22/100\n",
            "5359/5359 [==============================] - 1s 147us/step - loss: 0.3363 - accuracy: 0.8576 - val_loss: 0.3653 - val_accuracy: 0.8463\n",
            "Epoch 23/100\n",
            "5359/5359 [==============================] - 1s 150us/step - loss: 0.3360 - accuracy: 0.8586 - val_loss: 0.3620 - val_accuracy: 0.8463\n",
            "Epoch 24/100\n",
            "5359/5359 [==============================] - 1s 143us/step - loss: 0.3343 - accuracy: 0.8602 - val_loss: 0.3614 - val_accuracy: 0.8489\n",
            "Epoch 25/100\n",
            "5359/5359 [==============================] - 1s 160us/step - loss: 0.3345 - accuracy: 0.8572 - val_loss: 0.3607 - val_accuracy: 0.8519\n",
            "Epoch 26/100\n",
            "5359/5359 [==============================] - 1s 142us/step - loss: 0.3334 - accuracy: 0.8610 - val_loss: 0.3612 - val_accuracy: 0.8489\n",
            "Epoch 27/100\n",
            "5359/5359 [==============================] - 1s 142us/step - loss: 0.3325 - accuracy: 0.8625 - val_loss: 0.3595 - val_accuracy: 0.8531\n",
            "Epoch 28/100\n",
            "5359/5359 [==============================] - 1s 152us/step - loss: 0.3321 - accuracy: 0.8600 - val_loss: 0.3587 - val_accuracy: 0.8512\n",
            "Epoch 29/100\n",
            "5359/5359 [==============================] - 1s 146us/step - loss: 0.3309 - accuracy: 0.8604 - val_loss: 0.3623 - val_accuracy: 0.8493\n",
            "Epoch 30/100\n",
            "5359/5359 [==============================] - 1s 143us/step - loss: 0.3314 - accuracy: 0.8638 - val_loss: 0.3604 - val_accuracy: 0.8489\n",
            "Epoch 31/100\n",
            "5359/5359 [==============================] - 1s 142us/step - loss: 0.3319 - accuracy: 0.8599 - val_loss: 0.3598 - val_accuracy: 0.8535\n",
            "Epoch 32/100\n",
            "5359/5359 [==============================] - 1s 142us/step - loss: 0.3310 - accuracy: 0.8617 - val_loss: 0.3589 - val_accuracy: 0.8478\n",
            "Epoch 33/100\n",
            "5359/5359 [==============================] - 1s 145us/step - loss: 0.3309 - accuracy: 0.8628 - val_loss: 0.3606 - val_accuracy: 0.8504\n",
            "Epoch 34/100\n",
            "5359/5359 [==============================] - 1s 145us/step - loss: 0.3309 - accuracy: 0.8614 - val_loss: 0.3592 - val_accuracy: 0.8519\n",
            "Epoch 35/100\n",
            "5359/5359 [==============================] - 1s 151us/step - loss: 0.3304 - accuracy: 0.8619 - val_loss: 0.3580 - val_accuracy: 0.8527\n",
            "Epoch 36/100\n",
            "5359/5359 [==============================] - 1s 142us/step - loss: 0.3296 - accuracy: 0.8619 - val_loss: 0.3583 - val_accuracy: 0.8519\n",
            "Epoch 37/100\n",
            "5359/5359 [==============================] - 1s 143us/step - loss: 0.3293 - accuracy: 0.8614 - val_loss: 0.3580 - val_accuracy: 0.8497\n",
            "Epoch 38/100\n",
            "5359/5359 [==============================] - 1s 148us/step - loss: 0.3285 - accuracy: 0.8600 - val_loss: 0.3598 - val_accuracy: 0.8489\n",
            "Epoch 39/100\n",
            "5359/5359 [==============================] - 1s 153us/step - loss: 0.3288 - accuracy: 0.8615 - val_loss: 0.3598 - val_accuracy: 0.8516\n",
            "Epoch 40/100\n",
            "5359/5359 [==============================] - 1s 145us/step - loss: 0.3287 - accuracy: 0.8623 - val_loss: 0.3580 - val_accuracy: 0.8512\n",
            "Epoch 41/100\n",
            "5359/5359 [==============================] - 1s 147us/step - loss: 0.3284 - accuracy: 0.8632 - val_loss: 0.3619 - val_accuracy: 0.8497\n",
            "Epoch 42/100\n",
            "5359/5359 [==============================] - 1s 158us/step - loss: 0.3284 - accuracy: 0.8625 - val_loss: 0.3599 - val_accuracy: 0.8516\n",
            "Epoch 43/100\n",
            "5359/5359 [==============================] - 1s 144us/step - loss: 0.3287 - accuracy: 0.8619 - val_loss: 0.3586 - val_accuracy: 0.8504\n",
            "Epoch 44/100\n",
            "5359/5359 [==============================] - 1s 149us/step - loss: 0.3283 - accuracy: 0.8634 - val_loss: 0.3573 - val_accuracy: 0.8504\n",
            "Epoch 45/100\n",
            "5359/5359 [==============================] - 1s 168us/step - loss: 0.3275 - accuracy: 0.8630 - val_loss: 0.3583 - val_accuracy: 0.8527\n",
            "Epoch 46/100\n",
            "5359/5359 [==============================] - 1s 147us/step - loss: 0.3275 - accuracy: 0.8634 - val_loss: 0.3583 - val_accuracy: 0.8519\n",
            "Epoch 47/100\n",
            "5359/5359 [==============================] - 1s 157us/step - loss: 0.3268 - accuracy: 0.8638 - val_loss: 0.3602 - val_accuracy: 0.8535\n",
            "Epoch 48/100\n",
            "5359/5359 [==============================] - 1s 156us/step - loss: 0.3271 - accuracy: 0.8619 - val_loss: 0.3597 - val_accuracy: 0.8535\n",
            "Epoch 49/100\n",
            "5359/5359 [==============================] - 1s 142us/step - loss: 0.3272 - accuracy: 0.8655 - val_loss: 0.3582 - val_accuracy: 0.8485\n",
            "Epoch 50/100\n",
            "5359/5359 [==============================] - 1s 141us/step - loss: 0.3265 - accuracy: 0.8627 - val_loss: 0.3609 - val_accuracy: 0.8493\n",
            "Epoch 51/100\n",
            "5359/5359 [==============================] - 1s 146us/step - loss: 0.3273 - accuracy: 0.8636 - val_loss: 0.3599 - val_accuracy: 0.8550\n",
            "Epoch 52/100\n",
            "5359/5359 [==============================] - 1s 144us/step - loss: 0.3261 - accuracy: 0.8647 - val_loss: 0.3584 - val_accuracy: 0.8489\n",
            "Epoch 53/100\n",
            "5359/5359 [==============================] - 1s 160us/step - loss: 0.3266 - accuracy: 0.8630 - val_loss: 0.3608 - val_accuracy: 0.8497\n",
            "Epoch 54/100\n",
            "5359/5359 [==============================] - 1s 144us/step - loss: 0.3262 - accuracy: 0.8632 - val_loss: 0.3599 - val_accuracy: 0.8557\n",
            "Epoch 55/100\n",
            "5359/5359 [==============================] - 1s 152us/step - loss: 0.3263 - accuracy: 0.8645 - val_loss: 0.3603 - val_accuracy: 0.8527\n",
            "Epoch 56/100\n",
            "5359/5359 [==============================] - 1s 160us/step - loss: 0.3255 - accuracy: 0.8627 - val_loss: 0.3604 - val_accuracy: 0.8557\n",
            "Epoch 57/100\n",
            "5359/5359 [==============================] - 1s 161us/step - loss: 0.3253 - accuracy: 0.8649 - val_loss: 0.3611 - val_accuracy: 0.8535\n",
            "Epoch 58/100\n",
            "5359/5359 [==============================] - 1s 153us/step - loss: 0.3256 - accuracy: 0.8621 - val_loss: 0.3631 - val_accuracy: 0.8531\n",
            "Epoch 59/100\n",
            "5359/5359 [==============================] - 1s 155us/step - loss: 0.3252 - accuracy: 0.8628 - val_loss: 0.3605 - val_accuracy: 0.8538\n",
            "Epoch 60/100\n",
            "5359/5359 [==============================] - 1s 151us/step - loss: 0.3252 - accuracy: 0.8628 - val_loss: 0.3607 - val_accuracy: 0.8542\n",
            "Epoch 61/100\n",
            "5359/5359 [==============================] - 1s 153us/step - loss: 0.3247 - accuracy: 0.8645 - val_loss: 0.3612 - val_accuracy: 0.8523\n",
            "Epoch 62/100\n",
            "5359/5359 [==============================] - 1s 164us/step - loss: 0.3255 - accuracy: 0.8645 - val_loss: 0.3604 - val_accuracy: 0.8557\n",
            "Epoch 63/100\n",
            "5359/5359 [==============================] - 1s 156us/step - loss: 0.3249 - accuracy: 0.8621 - val_loss: 0.3598 - val_accuracy: 0.8538\n",
            "Epoch 64/100\n",
            "5359/5359 [==============================] - 1s 157us/step - loss: 0.3247 - accuracy: 0.8656 - val_loss: 0.3619 - val_accuracy: 0.8516\n",
            "Epoch 65/100\n",
            "5359/5359 [==============================] - 1s 158us/step - loss: 0.3245 - accuracy: 0.8645 - val_loss: 0.3610 - val_accuracy: 0.8550\n",
            "Epoch 66/100\n",
            "5359/5359 [==============================] - 1s 162us/step - loss: 0.3238 - accuracy: 0.8615 - val_loss: 0.3593 - val_accuracy: 0.8508\n",
            "Epoch 67/100\n",
            "5359/5359 [==============================] - 1s 151us/step - loss: 0.3245 - accuracy: 0.8632 - val_loss: 0.3600 - val_accuracy: 0.8531\n",
            "Epoch 68/100\n",
            "5359/5359 [==============================] - 1s 152us/step - loss: 0.3247 - accuracy: 0.8623 - val_loss: 0.3628 - val_accuracy: 0.8561\n",
            "Epoch 69/100\n",
            "5359/5359 [==============================] - 1s 144us/step - loss: 0.3242 - accuracy: 0.8638 - val_loss: 0.3610 - val_accuracy: 0.8531\n",
            "Epoch 70/100\n",
            "5359/5359 [==============================] - 1s 147us/step - loss: 0.3238 - accuracy: 0.8610 - val_loss: 0.3601 - val_accuracy: 0.8557\n",
            "Epoch 71/100\n",
            "5359/5359 [==============================] - 1s 149us/step - loss: 0.3233 - accuracy: 0.8621 - val_loss: 0.3591 - val_accuracy: 0.8519\n",
            "Epoch 72/100\n",
            "5359/5359 [==============================] - 1s 154us/step - loss: 0.3239 - accuracy: 0.8638 - val_loss: 0.3612 - val_accuracy: 0.8550\n",
            "Epoch 73/100\n",
            "5359/5359 [==============================] - 1s 146us/step - loss: 0.3236 - accuracy: 0.8653 - val_loss: 0.3598 - val_accuracy: 0.8527\n",
            "Epoch 74/100\n",
            "5359/5359 [==============================] - 1s 146us/step - loss: 0.3238 - accuracy: 0.8617 - val_loss: 0.3595 - val_accuracy: 0.8542\n",
            "Epoch 75/100\n",
            "5359/5359 [==============================] - 1s 143us/step - loss: 0.3234 - accuracy: 0.8634 - val_loss: 0.3599 - val_accuracy: 0.8542\n",
            "Epoch 76/100\n",
            "5359/5359 [==============================] - 1s 149us/step - loss: 0.3237 - accuracy: 0.8640 - val_loss: 0.3601 - val_accuracy: 0.8504\n",
            "Epoch 77/100\n",
            "5359/5359 [==============================] - 1s 144us/step - loss: 0.3236 - accuracy: 0.8649 - val_loss: 0.3614 - val_accuracy: 0.8538\n",
            "Epoch 78/100\n",
            "5359/5359 [==============================] - 1s 144us/step - loss: 0.3236 - accuracy: 0.8642 - val_loss: 0.3604 - val_accuracy: 0.8523\n",
            "Epoch 79/100\n",
            "5359/5359 [==============================] - 1s 142us/step - loss: 0.3232 - accuracy: 0.8623 - val_loss: 0.3606 - val_accuracy: 0.8508\n",
            "Epoch 80/100\n",
            "5359/5359 [==============================] - 1s 148us/step - loss: 0.3230 - accuracy: 0.8645 - val_loss: 0.3603 - val_accuracy: 0.8508\n",
            "Epoch 81/100\n",
            "5359/5359 [==============================] - 1s 146us/step - loss: 0.3226 - accuracy: 0.8647 - val_loss: 0.3648 - val_accuracy: 0.8508\n",
            "Epoch 82/100\n",
            "5359/5359 [==============================] - 1s 144us/step - loss: 0.3230 - accuracy: 0.8647 - val_loss: 0.3624 - val_accuracy: 0.8497\n",
            "Epoch 83/100\n",
            "5359/5359 [==============================] - 1s 142us/step - loss: 0.3228 - accuracy: 0.8679 - val_loss: 0.3615 - val_accuracy: 0.8542\n",
            "Epoch 84/100\n",
            "5359/5359 [==============================] - 1s 143us/step - loss: 0.3224 - accuracy: 0.8632 - val_loss: 0.3598 - val_accuracy: 0.8542\n",
            "Epoch 85/100\n",
            "5359/5359 [==============================] - 1s 151us/step - loss: 0.3224 - accuracy: 0.8658 - val_loss: 0.3635 - val_accuracy: 0.8519\n",
            "Epoch 86/100\n",
            "5359/5359 [==============================] - 1s 142us/step - loss: 0.3220 - accuracy: 0.8666 - val_loss: 0.3607 - val_accuracy: 0.8512\n",
            "Epoch 87/100\n",
            "5359/5359 [==============================] - 1s 147us/step - loss: 0.3220 - accuracy: 0.8655 - val_loss: 0.3601 - val_accuracy: 0.8523\n",
            "Epoch 88/100\n",
            "5359/5359 [==============================] - 1s 148us/step - loss: 0.3224 - accuracy: 0.8666 - val_loss: 0.3592 - val_accuracy: 0.8535\n",
            "Epoch 89/100\n",
            "5359/5359 [==============================] - 1s 152us/step - loss: 0.3215 - accuracy: 0.8640 - val_loss: 0.3612 - val_accuracy: 0.8527\n",
            "Epoch 90/100\n",
            "5359/5359 [==============================] - 1s 144us/step - loss: 0.3218 - accuracy: 0.8671 - val_loss: 0.3630 - val_accuracy: 0.8538\n",
            "Epoch 91/100\n",
            "5359/5359 [==============================] - 1s 153us/step - loss: 0.3218 - accuracy: 0.8658 - val_loss: 0.3638 - val_accuracy: 0.8527\n",
            "Epoch 92/100\n",
            "5359/5359 [==============================] - 1s 143us/step - loss: 0.3214 - accuracy: 0.8658 - val_loss: 0.3615 - val_accuracy: 0.8527\n",
            "Epoch 93/100\n",
            "5359/5359 [==============================] - 1s 147us/step - loss: 0.3213 - accuracy: 0.8651 - val_loss: 0.3608 - val_accuracy: 0.8535\n",
            "Epoch 94/100\n",
            "5359/5359 [==============================] - 1s 150us/step - loss: 0.3213 - accuracy: 0.8673 - val_loss: 0.3677 - val_accuracy: 0.8501\n",
            "Epoch 95/100\n",
            "5359/5359 [==============================] - 1s 140us/step - loss: 0.3217 - accuracy: 0.8664 - val_loss: 0.3624 - val_accuracy: 0.8554\n",
            "Epoch 96/100\n",
            "5359/5359 [==============================] - 1s 146us/step - loss: 0.3225 - accuracy: 0.8643 - val_loss: 0.3609 - val_accuracy: 0.8554\n",
            "Epoch 97/100\n",
            "5359/5359 [==============================] - 1s 148us/step - loss: 0.3209 - accuracy: 0.8647 - val_loss: 0.3607 - val_accuracy: 0.8546\n",
            "Epoch 98/100\n",
            "5359/5359 [==============================] - 1s 148us/step - loss: 0.3208 - accuracy: 0.8673 - val_loss: 0.3628 - val_accuracy: 0.8550\n",
            "Epoch 99/100\n",
            "5359/5359 [==============================] - 1s 147us/step - loss: 0.3210 - accuracy: 0.8655 - val_loss: 0.3626 - val_accuracy: 0.8535\n",
            "Epoch 100/100\n",
            "5359/5359 [==============================] - 1s 145us/step - loss: 0.3206 - accuracy: 0.8670 - val_loss: 0.3626 - val_accuracy: 0.8535\n"
          ],
          "name": "stdout"
        }
      ]
    },
    {
      "cell_type": "code",
      "metadata": {
        "id": "9BCPOxyt7dJ6",
        "colab_type": "code",
        "colab": {}
      },
      "source": [
        "#list all data in history "
      ],
      "execution_count": 0,
      "outputs": []
    },
    {
      "cell_type": "code",
      "metadata": {
        "id": "Uf52y_tR8CY6",
        "colab_type": "code",
        "colab": {
          "base_uri": "https://localhost:8080/",
          "height": 34
        },
        "outputId": "9a354c53-64ea-4174-a872-2e56dcbebee4"
      },
      "source": [
        "print(model_history.history.keys())"
      ],
      "execution_count": 50,
      "outputs": [
        {
          "output_type": "stream",
          "text": [
            "dict_keys(['val_loss', 'val_accuracy', 'loss', 'accuracy'])\n"
          ],
          "name": "stdout"
        }
      ]
    },
    {
      "cell_type": "code",
      "metadata": {
        "id": "XaL5ccQC8IfZ",
        "colab_type": "code",
        "colab": {}
      },
      "source": [
        "#summarize history for accuracy "
      ],
      "execution_count": 0,
      "outputs": []
    },
    {
      "cell_type": "code",
      "metadata": {
        "id": "uc6NAiAT8aCZ",
        "colab_type": "code",
        "colab": {
          "base_uri": "https://localhost:8080/",
          "height": 295
        },
        "outputId": "218555e7-acd9-46c5-8161-acadb6e342b2"
      },
      "source": [
        "plt.plot(model_history.history['accuracy'])\n",
        "plt.plot(model_history.history['val_accuracy'])\n",
        "plt.title('model_accuracy')\n",
        "plt.ylabel('accuracy')\n",
        "plt.xlabel('epoch')\n",
        "plt.legend(['train','test'],loc='upper left')\n",
        "plt.show()"
      ],
      "execution_count": 57,
      "outputs": [
        {
          "output_type": "display_data",
          "data": {
            "image/png": "[encoded data removed]",
            "text/plain": [
              "<Figure size 432x288 with 1 Axes>"
            ]
          },
          "metadata": {
            "tags": [],
            "needs_background": "light"
          }
        }
      ]
    },
    {
      "cell_type": "code",
      "metadata": {
        "id": "9lE-MDUc9cHr",
        "colab_type": "code",
        "colab": {}
      },
      "source": [
        "#predicitng the test set results"
      ],
      "execution_count": 0,
      "outputs": []
    },
    {
      "cell_type": "code",
      "metadata": {
        "id": "2NA0wbH1FuHZ",
        "colab_type": "code",
        "colab": {}
      },
      "source": [
        "y_pred = classifier.predict(X_test)\n",
        "y_pred = (y_pred > 0.5 )"
      ],
      "execution_count": 0,
      "outputs": []
    },
    {
      "cell_type": "code",
      "metadata": {
        "id": "SmWUMsBqF-js",
        "colab_type": "code",
        "colab": {}
      },
      "source": [
        "#making confusion matrix "
      ],
      "execution_count": 0,
      "outputs": []
    },
    {
      "cell_type": "code",
      "metadata": {
        "id": "aUqp94DIGBgM",
        "colab_type": "code",
        "colab": {}
      },
      "source": [
        "from sklearn.metrics import confusion_matrix\n",
        "cm = confusion_matrix(y_test,y_pred)"
      ],
      "execution_count": 0,
      "outputs": []
    },
    {
      "cell_type": "code",
      "metadata": {
        "id": "HfA-7CqWGZO9",
        "colab_type": "code",
        "colab": {}
      },
      "source": [
        "#calculate the acuracy"
      ],
      "execution_count": 0,
      "outputs": []
    },
    {
      "cell_type": "code",
      "metadata": {
        "id": "4RL5H8yOGdBk",
        "colab_type": "code",
        "colab": {}
      },
      "source": [
        "from sklearn.metrics import accuracy_score"
      ],
      "execution_count": 0,
      "outputs": []
    },
    {
      "cell_type": "code",
      "metadata": {
        "id": "qG-zBOulGpnE",
        "colab_type": "code",
        "colab": {}
      },
      "source": [
        "score=accuracy_score(y_pred,y_test)"
      ],
      "execution_count": 0,
      "outputs": []
    },
    {
      "cell_type": "code",
      "metadata": {
        "id": "zoc2cD8TGwgf",
        "colab_type": "code",
        "colab": {
          "base_uri": "https://localhost:8080/",
          "height": 34
        },
        "outputId": "d3cc6166-48fc-401c-91d4-aa53f88077fd"
      },
      "source": [
        "score"
      ],
      "execution_count": 66,
      "outputs": [
        {
          "output_type": "execute_result",
          "data": {
            "text/plain": [
              "0.8625"
            ]
          },
          "metadata": {
            "tags": []
          },
          "execution_count": 66
        }
      ]
    },
    {
      "cell_type": "code",
      "metadata": {
        "id": "2xGRrrh1G6xN",
        "colab_type": "code",
        "colab": {}
      },
      "source": [
        ""
      ],
      "execution_count": 0,
      "outputs": []
    },
    {
      "cell_type": "code",
      "metadata": {
        "id": "TQkaLIi2GVL8",
        "colab_type": "code",
        "colab": {}
      },
      "source": [
        ""
      ],
      "execution_count": 0,
      "outputs": []
    },
    {
      "cell_type": "code",
      "metadata": {
        "id": "NsErU5Vh8rDC",
        "colab_type": "code",
        "colab": {}
      },
      "source": [
        ""
      ],
      "execution_count": 0,
      "outputs": []
    },
    {
      "cell_type": "code",
      "metadata": {
        "id": "SXbDYwCL8hPL",
        "colab_type": "code",
        "colab": {}
      },
      "source": [
        ""
      ],
      "execution_count": 0,
      "outputs": []
    },
    {
      "cell_type": "code",
      "metadata": {
        "id": "ee-q2Y2U8Toi",
        "colab_type": "code",
        "colab": {}
      },
      "source": [
        ""
      ],
      "execution_count": 0,
      "outputs": []
    },
    {
      "cell_type": "code",
      "metadata": {
        "id": "PaXfMnk65yyq",
        "colab_type": "code",
        "colab": {}
      },
      "source": [
        ""
      ],
      "execution_count": 0,
      "outputs": []
    },
    {
      "cell_type": "code",
      "metadata": {
        "id": "Dtz3Bq0s4OCa",
        "colab_type": "code",
        "colab": {}
      },
      "source": [
        ""
      ],
      "execution_count": 0,
      "outputs": []
    },
    {
      "cell_type": "code",
      "metadata": {
        "id": "2lUUStF74KK6",
        "colab_type": "code",
        "colab": {}
      },
      "source": [
        ""
      ],
      "execution_count": 0,
      "outputs": []
    },
    {
      "cell_type": "code",
      "metadata": {
        "id": "6saSii8J3ilO",
        "colab_type": "code",
        "colab": {}
      },
      "source": [
        ""
      ],
      "execution_count": 0,
      "outputs": []
    },
    {
      "cell_type": "code",
      "metadata": {
        "id": "MX0xSQkj21Cx",
        "colab_type": "code",
        "colab": {}
      },
      "source": [
        ""
      ],
      "execution_count": 0,
      "outputs": []
    },
    {
      "cell_type": "code",
      "metadata": {
        "id": "PxLUuTfYxkco",
        "colab_type": "code",
        "colab": {}
      },
      "source": [
        ""
      ],
      "execution_count": 0,
      "outputs": []
    }
  ]
}